{
 "cells": [
  {
   "cell_type": "code",
   "execution_count": 3,
   "metadata": {},
   "outputs": [],
   "source": [
    "from matplotlib.collections import PatchCollection\n",
    "from matplotlib.patches import Polygon\n",
    "import matplotlib.pyplot as plt\n",
    "import numpy as np\n",
    "import numpy as np\n",
    "import json\n",
    "import sys"
   ]
  },
  {
   "cell_type": "code",
   "execution_count": 6,
   "metadata": {},
   "outputs": [
    {
     "ename": "ModuleNotFoundError",
     "evalue": "No module named 'osgeo'",
     "output_type": "error",
     "traceback": [
      "\u001b[0;31m---------------------------------------------------------------------------\u001b[0m",
      "\u001b[0;31mModuleNotFoundError\u001b[0m                       Traceback (most recent call last)",
      "\u001b[0;32m<ipython-input-6-b6508d764673>\u001b[0m in \u001b[0;36m<module>\u001b[0;34m\u001b[0m\n\u001b[0;32m----> 1\u001b[0;31m \u001b[0;32mfrom\u001b[0m \u001b[0mosgeo\u001b[0m \u001b[0;32mimport\u001b[0m \u001b[0mgdal\u001b[0m\u001b[0;34m,\u001b[0m \u001b[0mosr\u001b[0m\u001b[0;34m\u001b[0m\u001b[0;34m\u001b[0m\u001b[0m\n\u001b[0m",
      "\u001b[0;31mModuleNotFoundError\u001b[0m: No module named 'osgeo'"
     ]
    }
   ],
   "source": [
    "from osgeo import gdal, osr\n"
   ]
  },
  {
   "cell_type": "code",
   "execution_count": 8,
   "metadata": {},
   "outputs": [],
   "source": [
    "def plot_truth_coords(input_image, pixel_coords,   \n",
    "                  figsize=(8,8), plot_name='',\n",
    "                  add_title=False, poly_face_color='orange', \n",
    "                  poly_edge_color='red', poly_nofill_color='blue', cmap='bwr'):\n",
    "    '''Plot ground truth coordinaates, pixel_coords should be a numpy array'''\n",
    "    \n",
    "    fig, (ax0, ax1) = plt.subplots(1, 2, figsize=(2*figsize[0], figsize[1]))\n",
    "    \n",
    "    if add_title:\n",
    "        suptitle = fig.suptitle(plot_name.split('/')[-1], fontsize='large')\n",
    "    \n",
    "    # create patches\n",
    "    patches = []\n",
    "    patches_nofill = []\n",
    "    if len(pixel_coords) > 0:\n",
    "        # get patches    \n",
    "        for coord in pixel_coords:\n",
    "            patches_nofill.append(Polygon(coord, facecolor=poly_nofill_color, \n",
    "                                          edgecolor=poly_edge_color, lw=3))\n",
    "            patches.append(Polygon(coord, edgecolor=poly_edge_color, fill=True, \n",
    "                                   facecolor=poly_face_color))\n",
    "        p0 = PatchCollection(patches, alpha=0.25, match_original=True)\n",
    "        #p1 = PatchCollection(patches, alpha=0.75, match_original=True)\n",
    "        p2 = PatchCollection(patches_nofill, alpha=0.75, match_original=True)\n",
    "                   \n",
    "    # ax0: raw image\n",
    "    ax0.imshow(input_image)\n",
    "    if len(patches) > 0:\n",
    "        ax0.add_collection(p0)\n",
    "    ax0.set_title('Input Image + Ground Truth Buildings') \n",
    "    \n",
    "    # truth polygons\n",
    "    zero_arr = np.zeros(input_image.shape[:2])\n",
    "    # set background to white?\n",
    "    #zero_arr[zero_arr == 0.0] = np.nan\n",
    "    ax1.imshow(zero_arr, cmap=cmap)\n",
    "    if len(patches) > 0:\n",
    "        ax1.add_collection(p2)\n",
    "    ax1.set_title('Ground Truth Building Polygons')\n",
    "        \n",
    "    #plt.axis('off')\n",
    "    plt.tight_layout()\n",
    "    if add_title:\n",
    "        suptitle.set_y(0.95)\n",
    "        fig.subplots_adjust(top=0.96)\n",
    "    #plt.show()\n",
    " \n",
    "    if len(plot_name) > 0:\n",
    "        plt.savefig(plot_name)\n",
    "    \n",
    "    return patches, patches_nofill"
   ]
  },
  {
   "cell_type": "code",
   "execution_count": null,
   "metadata": {},
   "outputs": [],
   "source": []
  }
 ],
 "metadata": {
  "kernelspec": {
   "display_name": "Python 3",
   "language": "python",
   "name": "python3"
  },
  "language_info": {
   "codemirror_mode": {
    "name": "ipython",
    "version": 3
   },
   "file_extension": ".py",
   "mimetype": "text/x-python",
   "name": "python",
   "nbconvert_exporter": "python",
   "pygments_lexer": "ipython3",
   "version": "3.6.9"
  }
 },
 "nbformat": 4,
 "nbformat_minor": 2
}
