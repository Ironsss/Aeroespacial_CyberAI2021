{
 "cells": [
  {
   "cell_type": "markdown",
   "metadata": {},
   "source": [
    "## Notebook **_1_** Código final"
   ]
  },
  {
   "cell_type": "markdown",
   "metadata": {},
   "source": [
    "Para correr el siguiente código se necesita abrir un notebook en google colaboratory y subir el archivo json de tu cuenta de Kaggle en la dirección './' del colab."
   ]
  },
  {
   "cell_type": "code",
   "execution_count": null,
   "metadata": {},
   "outputs": [],
   "source": [
    "! pip install kaggle"
   ]
  },
  {
   "cell_type": "code",
   "execution_count": null,
   "metadata": {},
   "outputs": [],
   "source": [
    "! mkdir ~/.kaggle\n",
    "! cp /kaggle.json ~/.kaggle/\n",
    "! chmod 600 ~/.kaggle/kaggle.json"
   ]
  },
  {
   "cell_type": "code",
   "execution_count": null,
   "metadata": {},
   "outputs": [],
   "source": [
    "#Se descarga el dataset\n",
    "! kaggle datasets download -d balraj98/deepglobe-road-extraction-dataset"
   ]
  },
  {
   "cell_type": "code",
   "execution_count": null,
   "metadata": {},
   "outputs": [],
   "source": [
    "#Se descomprime el archivo zip\n",
    "! unzip deepglobe-road-extraction-dataset.zip &> /dev/null"
   ]
  },
  {
   "cell_type": "code",
   "execution_count": null,
   "metadata": {},
   "outputs": [],
   "source": [
    "import os\n",
    "import sys\n",
    "import numpy as np\n",
    "import re\n",
    "import cv2\n",
    "import matplotlib.pyplot as plt\n",
    "import tensorflow as tf"
   ]
  },
  {
   "cell_type": "code",
   "execution_count": null,
   "metadata": {},
   "outputs": [],
   "source": [
    "# Se define la funcióon para cargar los datos\n",
    "framObjTrain = {'img' : [],\n",
    "           'mask' : []\n",
    "          }\n",
    "\n",
    "def LoadData( frameObj = None, imgPath = None, maskPath = None, shape = 128):\n",
    "    imgNames = os.listdir(imgPath)\n",
    "    maskNames = []\n",
    "    \n",
    "    ## generating mask names\n",
    "    for mem in imgNames:\n",
    "        mem = mem.split('_')[0]\n",
    "        if mem not in maskNames:\n",
    "            maskNames.append(mem)\n",
    "    \n",
    "    imgAddr = imgPath + '/'\n",
    "    maskAddr = maskPath + '/'\n",
    "    \n",
    "    for i in range (len(imgNames)):\n",
    "        try:\n",
    "            img = plt.imread(imgAddr + maskNames[i] + '_sat.jpg') \n",
    "            mask = plt.imread(maskAddr + maskNames[i] + '_mask.png')\n",
    "            \n",
    "        except:\n",
    "            continue\n",
    "        img = cv2.resize(img, (shape, shape))\n",
    "        mask = cv2.resize(mask, (shape, shape))\n",
    "        frameObj['img'].append(img)\n",
    "        frameObj['mask'].append(mask[:,:,0]) # this is because its a binary mask and img is present in channel 0\n",
    "        \n",
    "    return frameObj"
   ]
  },
  {
   "cell_type": "code",
   "execution_count": null,
   "metadata": {},
   "outputs": [],
   "source": [
    "# Definiendo el bloque Conv2d para la u-net\n",
    "# Este bloque escencialmente hace 2 convoluciones\n",
    "\n",
    "def Conv2dBlock(inputTensor, numFilters, kernelSize = 3, doBatchNorm = True):\n",
    "    #first Conv\n",
    "    x = tf.keras.layers.Conv2D(filters = numFilters, kernel_size = (kernelSize, kernelSize),\n",
    "                              kernel_initializer = 'he_normal', padding = 'same') (inputTensor)\n",
    "    \n",
    "    if doBatchNorm:\n",
    "        x = tf.keras.layers.BatchNormalization()(x)\n",
    "        \n",
    "    x =tf.keras.layers.Activation('relu')(x)\n",
    "    \n",
    "    #Second Conv\n",
    "    x = tf.keras.layers.Conv2D(filters = numFilters, kernel_size = (kernelSize, kernelSize),\n",
    "                              kernel_initializer = 'he_normal', padding = 'same') (x)\n",
    "    if doBatchNorm:\n",
    "        x = tf.keras.layers.BatchNormalization()(x)\n",
    "        \n",
    "    x = tf.keras.layers.Activation('relu')(x)\n",
    "    \n",
    "    return x\n",
    "\n",
    "\n",
    "\n",
    "# Ahora se define la U-Net \n",
    "def GiveMeUnet(inputImage, numFilters = 16, droupouts = 0.1, doBatchNorm = True):\n",
    "    # defining encoder Path\n",
    "    c1 = Conv2dBlock(inputImage, numFilters * 1, kernelSize = 3, doBatchNorm = doBatchNorm)\n",
    "    p1 = tf.keras.layers.MaxPooling2D((2,2))(c1)\n",
    "    p1 = tf.keras.layers.Dropout(droupouts)(p1)\n",
    "    \n",
    "    c2 = Conv2dBlock(p1, numFilters * 2, kernelSize = 3, doBatchNorm = doBatchNorm)\n",
    "    p2 = tf.keras.layers.MaxPooling2D((2,2))(c2)\n",
    "    p2 = tf.keras.layers.Dropout(droupouts)(p2)\n",
    "    \n",
    "    c3 = Conv2dBlock(p2, numFilters * 4, kernelSize = 3, doBatchNorm = doBatchNorm)\n",
    "    p3 = tf.keras.layers.MaxPooling2D((2,2))(c3)\n",
    "    p3 = tf.keras.layers.Dropout(droupouts)(p3)\n",
    "    \n",
    "    c4 = Conv2dBlock(p3, numFilters * 8, kernelSize = 3, doBatchNorm = doBatchNorm)\n",
    "    p4 = tf.keras.layers.MaxPooling2D((2,2))(c4)\n",
    "    p4 = tf.keras.layers.Dropout(droupouts)(p4)\n",
    "    \n",
    "    c5 = Conv2dBlock(p4, numFilters * 16, kernelSize = 3, doBatchNorm = doBatchNorm)\n",
    "    \n",
    "    # defining decoder path\n",
    "    u6 = tf.keras.layers.Conv2DTranspose(numFilters*8, (3, 3), strides = (2, 2), padding = 'same')(c5)\n",
    "    u6 = tf.keras.layers.concatenate([u6, c4])\n",
    "    u6 = tf.keras.layers.Dropout(droupouts)(u6)\n",
    "    c6 = Conv2dBlock(u6, numFilters * 8, kernelSize = 3, doBatchNorm = doBatchNorm)\n",
    "    \n",
    "    u7 = tf.keras.layers.Conv2DTranspose(numFilters*4, (3, 3), strides = (2, 2), padding = 'same')(c6)\n",
    "    u7 = tf.keras.layers.concatenate([u7, c3])\n",
    "    u7 = tf.keras.layers.Dropout(droupouts)(u7)\n",
    "    c7 = Conv2dBlock(u7, numFilters * 4, kernelSize = 3, doBatchNorm = doBatchNorm)\n",
    "    \n",
    "    u8 = tf.keras.layers.Conv2DTranspose(numFilters*2, (3, 3), strides = (2, 2), padding = 'same')(c7)\n",
    "    u8 = tf.keras.layers.concatenate([u8, c2])\n",
    "    u8 = tf.keras.layers.Dropout(droupouts)(u8)\n",
    "    c8 = Conv2dBlock(u8, numFilters * 2, kernelSize = 3, doBatchNorm = doBatchNorm)\n",
    "    \n",
    "    u9 = tf.keras.layers.Conv2DTranspose(numFilters*1, (3, 3), strides = (2, 2), padding = 'same')(c8)\n",
    "    u9 = tf.keras.layers.concatenate([u9, c1])\n",
    "    u9 = tf.keras.layers.Dropout(droupouts)(u9)\n",
    "    c9 = Conv2dBlock(u9, numFilters * 1, kernelSize = 3, doBatchNorm = doBatchNorm)\n",
    "    \n",
    "    output = tf.keras.layers.Conv2D(1, (1, 1), activation = 'sigmoid')(c9)\n",
    "    model = tf.keras.Model(inputs = [inputImage], outputs = [output])\n",
    "    return model"
   ]
  },
  {
   "cell_type": "code",
   "execution_count": null,
   "metadata": {},
   "outputs": [],
   "source": [
    "## modelo de instanciación\n",
    "inputs = tf.keras.layers.Input((128, 128, 3))\n",
    "unet = GiveMeUnet(inputs, droupouts= 0.07)\n",
    "unet.compile(optimizer = 'Adam', loss = 'binary_crossentropy', metrics = ['accuracy'] )"
   ]
  },
  {
   "cell_type": "code",
   "execution_count": null,
   "metadata": {},
   "outputs": [],
   "source": [
    "framObjTrain = LoadData( framObjTrain, imgPath = '/content/train', \n",
    "                        maskPath = '/content/train'\n",
    "                         , shape = 128)"
   ]
  },
  {
   "cell_type": "code",
   "execution_count": null,
   "metadata": {},
   "outputs": [],
   "source": [
    "## Mostrando los datos cargados por la función\n",
    "plt.subplot(1,2,1)\n",
    "plt.imshow(framObjTrain['img'][1])\n",
    "plt.subplot(1,2,2)\n",
    "plt.imshow(framObjTrain['mask'][1])\n",
    "plt.show()"
   ]
  },
  {
   "cell_type": "code",
   "execution_count": null,
   "metadata": {},
   "outputs": [],
   "source": [
    "retVal = unet.fit(np.array(framObjTrain['img']), np.array(framObjTrain['mask']), epochs = 40, verbose = 1)"
   ]
  },
  {
   "cell_type": "code",
   "execution_count": null,
   "metadata": {},
   "outputs": [],
   "source": [
    "plt.plot(retVal.history['loss'], label = 'training_loss')\n",
    "plt.plot(retVal.history['accuracy'], label = 'training_accuracy')\n",
    "plt.title('Performance')\n",
    "plt.xlabel('Epochs')\n",
    "plt.legend()\n",
    "plt.grid(True)"
   ]
  },
  {
   "cell_type": "code",
   "execution_count": null,
   "metadata": {},
   "outputs": [],
   "source": [
    "def predict16 (valMap, model, shape = 256):\n",
    "    ## getting and proccessing val data\n",
    "    img = valMap['img'][0:16]\n",
    "    mask = valMap['mask'][0:16]\n",
    "    #mask = mask[0:16]\n",
    "    \n",
    "    imgProc = img [0:16]\n",
    "    imgProc = np.array(img)\n",
    "    \n",
    "    predictions = model.predict(imgProc)\n",
    "  \n",
    "\n",
    "    return predictions, imgProc, mask\n",
    "\n",
    "\n",
    "def Plotter(img, predMask, groundTruth):\n",
    "    plt.figure(figsize=(9,9))\n",
    "    \n",
    "    plt.subplot(1,3,1)\n",
    "    plt.imshow(img)\n",
    "    plt.title('Aerial image')\n",
    "    \n",
    "    plt.subplot(1,3,2)\n",
    "    plt.imshow(predMask)\n",
    "    plt.title('Predicted Routes')\n",
    "    \n",
    "    plt.subplot(1,3,3)\n",
    "    plt.imshow(groundTruth)\n",
    "    plt.title('Actual Routes')"
   ]
  },
  {
   "cell_type": "code",
   "execution_count": null,
   "metadata": {},
   "outputs": [],
   "source": [
    "sixteenPrediction, actuals, masks = predict16(framObjTrain, unet)"
   ]
  },
  {
   "cell_type": "code",
   "execution_count": null,
   "metadata": {},
   "outputs": [],
   "source": [
    "Plotter(actuals[1], sixteenPrediction[1][:,:,0], masks[1])"
   ]
  },
  {
   "cell_type": "code",
   "execution_count": null,
   "metadata": {},
   "outputs": [],
   "source": [
    "Plotter(actuals[5], sixteenPrediction[5][:,:,0], masks[5])"
   ]
  }
 ],
 "metadata": {
  "kernelspec": {
   "display_name": "Python 3",
   "language": "python",
   "name": "python3"
  },
  "language_info": {
   "codemirror_mode": {
    "name": "ipython",
    "version": 3
   },
   "file_extension": ".py",
   "mimetype": "text/x-python",
   "name": "python",
   "nbconvert_exporter": "python",
   "pygments_lexer": "ipython3",
   "version": "3.8.3"
  }
 },
 "nbformat": 4,
 "nbformat_minor": 2
}
